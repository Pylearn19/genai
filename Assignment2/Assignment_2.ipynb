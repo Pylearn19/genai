{
 "cells": [
  {
   "cell_type": "markdown",
   "id": "0b0245fa",
   "metadata": {},
   "source": [
    "## Do all necessary imports and client setup \n",
    "###### -- use it to setup the python environment and install all packages using requirement.txt"
   ]
  },
  {
   "cell_type": "code",
   "execution_count": 1,
   "id": "64b35f06",
   "metadata": {},
   "outputs": [],
   "source": [
    "import os\n",
    "from typing import List, Tuple\n",
    "from langchain_openai import AzureOpenAIEmbeddings\n",
    "from langchain_openai import AzureChatOpenAI\n",
    "\n",
    "\n",
    "llm_call = AzureChatOpenAI(api_key= os.getenv(\"AZURE_OPENAI_API_KEY\"),\n",
    "        azure_endpoint= os.getenv(\"AZURE_OPENAI_ENDPOINT\"),\n",
    "        api_version=os.getenv(\"OPENAI_API_VERSION\"),\n",
    "        model=os.getenv(\"MODEL\"),\n",
    "        )\n",
    "\n",
    "emd_call = AzureOpenAIEmbeddings(api_key= os.getenv(\"AZURE_OPENAI_API_KEY\"),\n",
    "                                 azure_endpoint= os.getenv(\"AZURE_OPENAI_ENDPOINT\"),\n",
    "                                 api_version=os.getenv(\"OPENAI_API_VERSION\"),\n",
    "                                 model=os.getenv(\"EMB_MODEL\"),)"
   ]
  },
  {
   "cell_type": "markdown",
   "id": "6c5218c5",
   "metadata": {},
   "source": [
    "## load the dataset containing the course information"
   ]
  },
  {
   "cell_type": "code",
   "execution_count": 2,
   "id": "fb1e76f2",
   "metadata": {},
   "outputs": [],
   "source": [
    "from langchain_community.document_loaders  import DataFrameLoader\n",
    "import pandas as pd\n",
    "\n",
    "doc_path = \"assignment2dataset.csv\"\n",
    "\n",
    "# Step 1: Load Excel using pandas\n",
    "df = pd.read_csv(doc_path)  # Replace with your file path\n",
    "df[\"text\"] = df[\"title\"] + \": \" + df[\"description\"]\n",
    "df.drop(columns=[\"description\"],axis=1,inplace=True) # Create a new column 'text' from 'description'\n",
    "# df.rename(columns={\"description\":\"text\"}, inplace=True)  # Rename column to 'text'\n",
    "# Step 2: Use PandasLoader to convert it into LangChain documents\n",
    "loader = DataFrameLoader(df)\n",
    "documents = loader.load()\n",
    "\n",
    "# Step 3: Print the documents\n",
    "docs = []\n",
    "for doc in documents:\n",
    "    docs.extend(doc)\n"
   ]
  },
  {
   "cell_type": "code",
   "execution_count": 3,
   "id": "7b78f2ca",
   "metadata": {},
   "outputs": [],
   "source": [
    "# Extract all page_content values\n",
    "page_contents = [value for key, value in docs if key == 'page_content']\n",
    "\n",
    "# Extract all page_content values\n",
    "metadata = [value for key, value in docs if key == 'metadata']\n",
    "# Print the results\n",
    "# for i, content in enumerate(page_contents, 1):\n",
    "#     print(f\"Page Content {i}:\\n{content}\\n\")"
   ]
  },
  {
   "cell_type": "code",
   "execution_count": 5,
   "id": "c8f3c9a9",
   "metadata": {},
   "outputs": [
    {
     "data": {
      "text/plain": [
       "443.64"
      ]
     },
     "execution_count": 5,
     "metadata": {},
     "output_type": "execute_result"
    }
   ],
   "source": [
    "# FOr all document, checking the average characters count\n",
    "sum(len(pg) for pg in page_contents)/len(page_contents)"
   ]
  },
  {
   "cell_type": "markdown",
   "id": "56cf0331",
   "metadata": {},
   "source": [
    "## Create vector store"
   ]
  },
  {
   "cell_type": "code",
   "execution_count": 4,
   "id": "0a6c963b",
   "metadata": {},
   "outputs": [
    {
     "data": {
      "text/plain": [
       "25"
      ]
     },
     "execution_count": 4,
     "metadata": {},
     "output_type": "execute_result"
    }
   ],
   "source": [
    "len(documents)"
   ]
  },
  {
   "cell_type": "code",
   "execution_count": 7,
   "id": "0bef8f99",
   "metadata": {},
   "outputs": [
    {
     "name": "stderr",
     "output_type": "stream",
     "text": [
      "python-dotenv could not parse statement starting at line 1\n",
      "python-dotenv could not parse statement starting at line 2\n",
      "python-dotenv could not parse statement starting at line 3\n",
      "python-dotenv could not parse statement starting at line 5\n",
      "python-dotenv could not parse statement starting at line 6\n",
      "python-dotenv could not parse statement starting at line 8\n",
      "python-dotenv could not parse statement starting at line 9\n",
      "python-dotenv could not parse statement starting at line 1\n",
      "python-dotenv could not parse statement starting at line 2\n",
      "python-dotenv could not parse statement starting at line 3\n",
      "python-dotenv could not parse statement starting at line 5\n",
      "python-dotenv could not parse statement starting at line 6\n",
      "python-dotenv could not parse statement starting at line 8\n",
      "python-dotenv could not parse statement starting at line 9\n",
      "python-dotenv could not parse statement starting at line 1\n",
      "python-dotenv could not parse statement starting at line 2\n",
      "python-dotenv could not parse statement starting at line 3\n",
      "python-dotenv could not parse statement starting at line 5\n",
      "python-dotenv could not parse statement starting at line 6\n",
      "python-dotenv could not parse statement starting at line 8\n",
      "python-dotenv could not parse statement starting at line 9\n",
      "python-dotenv could not parse statement starting at line 1\n",
      "python-dotenv could not parse statement starting at line 2\n",
      "python-dotenv could not parse statement starting at line 3\n",
      "python-dotenv could not parse statement starting at line 5\n",
      "python-dotenv could not parse statement starting at line 6\n",
      "python-dotenv could not parse statement starting at line 8\n",
      "python-dotenv could not parse statement starting at line 9\n",
      "python-dotenv could not parse statement starting at line 1\n",
      "python-dotenv could not parse statement starting at line 2\n",
      "python-dotenv could not parse statement starting at line 3\n",
      "python-dotenv could not parse statement starting at line 5\n",
      "python-dotenv could not parse statement starting at line 6\n",
      "python-dotenv could not parse statement starting at line 8\n",
      "python-dotenv could not parse statement starting at line 9\n",
      "python-dotenv could not parse statement starting at line 1\n",
      "python-dotenv could not parse statement starting at line 2\n",
      "python-dotenv could not parse statement starting at line 3\n",
      "python-dotenv could not parse statement starting at line 5\n",
      "python-dotenv could not parse statement starting at line 6\n",
      "python-dotenv could not parse statement starting at line 8\n",
      "python-dotenv could not parse statement starting at line 9\n",
      "python-dotenv could not parse statement starting at line 1\n",
      "python-dotenv could not parse statement starting at line 2\n",
      "python-dotenv could not parse statement starting at line 3\n",
      "python-dotenv could not parse statement starting at line 5\n",
      "python-dotenv could not parse statement starting at line 6\n",
      "python-dotenv could not parse statement starting at line 8\n",
      "python-dotenv could not parse statement starting at line 9\n",
      "python-dotenv could not parse statement starting at line 1\n",
      "python-dotenv could not parse statement starting at line 2\n",
      "python-dotenv could not parse statement starting at line 3\n",
      "python-dotenv could not parse statement starting at line 5\n",
      "python-dotenv could not parse statement starting at line 6\n",
      "python-dotenv could not parse statement starting at line 8\n",
      "python-dotenv could not parse statement starting at line 9\n"
     ]
    }
   ],
   "source": [
    "from langchain_chroma import Chroma\n",
    "vectorstore = Chroma.from_documents(collection_name=\"course_repo\",\n",
    "                                    documents=documents, embedding=emd_call)"
   ]
  },
  {
   "cell_type": "markdown",
   "id": "8569a8b0",
   "metadata": {},
   "source": [
    "# create course recommendation"
   ]
  },
  {
   "cell_type": "code",
   "execution_count": 11,
   "id": "006a337d",
   "metadata": {},
   "outputs": [],
   "source": [
    "def recommend_courses(profile: str, \n",
    "                    #   completed_ids: List[str],\n",
    "                      top_k:str = 5) -> List[Tuple[str, float]]:\n",
    "    \"\"\"\n",
    "    Returns a list of (course_id, similarity_score) for the top-5 \n",
    "    recommendations.\n",
    "    \"\"\"\n",
    "\n",
    "    docs, score = zip(*vectorstore.similarity_search_with_score(query = profile,\n",
    "                                                         k=top_k))\n",
    "    top_recommendations = [(doc.metadata[\"course_id\"],doc.metadata[\"title\"], score) for doc, score in zip(docs, score)]\n",
    "    # for doc, score in zip(docs, score):\n",
    "    #     doc.metadata[\"score\"] = score\n",
    "\n",
    "    return top_recommendations\n",
    "\n"
   ]
  },
  {
   "cell_type": "markdown",
   "id": "fe5b4fad",
   "metadata": {},
   "source": [
    "## Test Evaluation report\n",
    "###### for all 5 question it does recommend the similar courses as per the need of the user"
   ]
  },
  {
   "cell_type": "code",
   "execution_count": 16,
   "id": "158d77bf",
   "metadata": {},
   "outputs": [],
   "source": [
    "Q1 = \"I’ve completed the ‘Python Programming for Data Science’ course and enjoy data visualization. What should I take next?\""
   ]
  },
  {
   "cell_type": "code",
   "execution_count": 17,
   "id": "f2e7a414",
   "metadata": {},
   "outputs": [
    {
     "data": {
      "text/plain": [
       "[('C016', 'Python Programming for Data Science', 0.3308434784412384),\n",
       " ('C011', 'Big Data Analytics with Spark', 0.3907507658004761),\n",
       " ('C014', 'Data Visualization with Tableau', 0.39794573187828064),\n",
       " ('C004', 'Computer Vision and Image Processing', 0.41815078258514404),\n",
       " ('C017', 'R Programming and Statistical Analysis', 0.42748209834098816)]"
      ]
     },
     "execution_count": 17,
     "metadata": {},
     "output_type": "execute_result"
    }
   ],
   "source": [
    "recommend_courses(Q1)"
   ]
  },
  {
   "cell_type": "code",
   "execution_count": 14,
   "id": "257745ce",
   "metadata": {},
   "outputs": [],
   "source": [
    "Q2 = \"I know Azure basics and want to manage containers and build CI/CD pipelines. Recommend courses\""
   ]
  },
  {
   "cell_type": "code",
   "execution_count": 18,
   "id": "2d0ce977",
   "metadata": {},
   "outputs": [
    {
     "data": {
      "text/plain": [
       "[('C007', 'Cloud Computing with Azure', 0.31319066882133484),\n",
       " ('C009', 'Containerization with Docker and Kubernetes', 0.32507163286209106),\n",
       " ('C008', 'DevOps Practices and CI/CD', 0.3403666019439697),\n",
       " ('C010', 'APIs and Microservices Architecture', 0.39743226766586304),\n",
       " ('C025', 'MLOps: Productionizing Machine Learning', 0.40100717544555664)]"
      ]
     },
     "execution_count": 18,
     "metadata": {},
     "output_type": "execute_result"
    }
   ],
   "source": [
    "recommend_courses(Q2)"
   ]
  },
  {
   "cell_type": "code",
   "execution_count": 19,
   "id": "21887499",
   "metadata": {},
   "outputs": [],
   "source": [
    "Q3 = \"My background is in ML fundamentals; I’d like to specialize in neural networks and production workflows.\""
   ]
  },
  {
   "cell_type": "code",
   "execution_count": 20,
   "id": "2892f1ad",
   "metadata": {},
   "outputs": [
    {
     "data": {
      "text/plain": [
       "[('C025', 'MLOps: Productionizing Machine Learning', 0.3238612115383148),\n",
       " ('C002', 'Deep Learning with TensorFlow and Keras', 0.3684665858745575),\n",
       " ('C004', 'Computer Vision and Image Processing', 0.378982812166214),\n",
       " ('C003', 'Natural Language Processing Fundamentals', 0.3809294104576111),\n",
       " ('C001', 'Foundations of Machine Learning', 0.38297075033187866)]"
      ]
     },
     "execution_count": 20,
     "metadata": {},
     "output_type": "execute_result"
    }
   ],
   "source": [
    "recommend_courses(Q3)"
   ]
  },
  {
   "cell_type": "code",
   "execution_count": 21,
   "id": "75c2e688",
   "metadata": {},
   "outputs": [],
   "source": [
    "Q4 = \"I want to learn to build and deploy microservices with Kubernetes—what courses fit best?\""
   ]
  },
  {
   "cell_type": "code",
   "execution_count": 22,
   "id": "0d8a8b80",
   "metadata": {},
   "outputs": [
    {
     "data": {
      "text/plain": [
       "[('C009', 'Containerization with Docker and Kubernetes', 0.2381223887205124),\n",
       " ('C010', 'APIs and Microservices Architecture', 0.32079559564590454),\n",
       " ('C008', 'DevOps Practices and CI/CD', 0.3699899911880493),\n",
       " ('C007', 'Cloud Computing with Azure', 0.3801954388618469),\n",
       " ('C025', 'MLOps: Productionizing Machine Learning', 0.38485318422317505)]"
      ]
     },
     "execution_count": 22,
     "metadata": {},
     "output_type": "execute_result"
    }
   ],
   "source": [
    "recommend_courses(Q4)"
   ]
  },
  {
   "cell_type": "code",
   "execution_count": 23,
   "id": "6eccb0c9",
   "metadata": {},
   "outputs": [],
   "source": [
    "Q5 = \"I’m interested in blockchain and smart contracts but have no prior experience. Which courses do you suggest?\""
   ]
  },
  {
   "cell_type": "code",
   "execution_count": 24,
   "id": "008dd9d1",
   "metadata": {},
   "outputs": [
    {
     "data": {
      "text/plain": [
       "[('C023', 'Blockchain Technology and Smart Contracts', 0.28837913274765015),\n",
       " ('C010', 'APIs and Microservices Architecture', 0.48249563574790955),\n",
       " ('C022', 'Internet of Things (IoT) Development', 0.48679864406585693),\n",
       " ('C013', 'NoSQL Databases and MongoDB', 0.4970172643661499),\n",
       " ('C009', 'Containerization with Docker and Kubernetes', 0.5001373887062073)]"
      ]
     },
     "execution_count": 24,
     "metadata": {},
     "output_type": "execute_result"
    }
   ],
   "source": [
    "recommend_courses(Q5)"
   ]
  }
 ],
 "metadata": {
  "kernelspec": {
   "display_name": ".venv",
   "language": "python",
   "name": "python3"
  },
  "language_info": {
   "codemirror_mode": {
    "name": "ipython",
    "version": 3
   },
   "file_extension": ".py",
   "mimetype": "text/x-python",
   "name": "python",
   "nbconvert_exporter": "python",
   "pygments_lexer": "ipython3",
   "version": "3.13.0"
  }
 },
 "nbformat": 4,
 "nbformat_minor": 5
}
