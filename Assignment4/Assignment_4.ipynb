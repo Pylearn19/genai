{
 "cells": [
  {
   "cell_type": "markdown",
   "id": "0b0245fa",
   "metadata": {},
   "source": [
    "## Do all necessary imports and client setup \n",
    "###### -- use it to setup the python environment and install all packages using requirement.txt"
   ]
  },
  {
   "cell_type": "code",
   "execution_count": 1,
   "id": "dbb17b50",
   "metadata": {},
   "outputs": [],
   "source": [
    "# pip install weaviate-client\n",
    "# pip install -Uqq langchain-weaviate\n",
    "# pip install jq\n",
    "# pip install langgraph"
   ]
  },
  {
   "cell_type": "code",
   "execution_count": null,
   "id": "64b35f06",
   "metadata": {},
   "outputs": [],
   "source": [
    "import os\n",
    "from typing import List, Tuple\n",
    "from langchain_openai import AzureOpenAIEmbeddings\n",
    "from langchain_openai import AzureChatOpenAI\n",
    "from langgraph.graph import StateGraph, END, START\n",
    "\n",
    "os.environ[\"MODEL\"] = \"gpt-4o-mini\"\n",
    "os.environ[\"EMB_MODEL\"] = \"text-embedding-3-small\"\n",
    "\n",
    "llm_call = AzureChatOpenAI(api_key= os.getenv(\"AZURE_OPENAI_API_KEY\"),\n",
    "        azure_endpoint= os.getenv(\"AZURE_OPENAI_ENDPOINT\"),\n",
    "        api_version=os.getenv(\"OPENAI_API_VERSION\"),\n",
    "        model=os.getenv(\"MODEL\"),\n",
    "        )\n",
    "\n",
    "emd_call = AzureOpenAIEmbeddings(api_key= os.getenv(\"AZURE_OPENAI_API_KEY\"),\n",
    "                                 azure_endpoint= os.getenv(\"AZURE_OPENAI_ENDPOINT\"),\n",
    "                                 api_version=os.getenv(\"OPENAI_API_VERSION\"),\n",
    "                                 model=os.getenv(\"EMB_MODEL\"),)"
   ]
  },
  {
   "cell_type": "code",
   "execution_count": null,
   "id": "57a794fc",
   "metadata": {},
   "outputs": [],
   "source": [
    "import weaviate\n",
    "from weaviate.classes.init import Auth\n",
    "# Best practice: store your credentials in environment variables\n",
    "\n",
    "client = weaviate.connect_to_weaviate_cloud(\n",
    "    cluster_url=os.getenv(\"weaviate_url\"),  # Replace with your Weaviate Cloud URL\n",
    "    auth_credentials=Auth.api_key(os.getenv(\"weaviate_api_key\")),  # Replace with your Weaviate Cloud key\n",
    ")\n",
    "# client.close()\n"
   ]
  },
  {
   "cell_type": "markdown",
   "id": "6c5218c5",
   "metadata": {},
   "source": [
    "## load the self_critique_loop_dataset to vector store"
   ]
  },
  {
   "cell_type": "code",
   "execution_count": 5,
   "id": "fb1e76f2",
   "metadata": {},
   "outputs": [],
   "source": [
    "from langchain_community.document_loaders.json_loader import JSONLoader\n",
    "\n",
    "doc_path = \"self_critique_loop_dataset.json\"\n",
    "# Step 2: Load the JSON data into LangChain documents\n",
    "# Define the metadata extraction function.\n",
    "def metadata_func(record: dict, metadata: dict) -> dict:\n",
    "    metadata[\"doc_id\"] = record.get(\"doc_id\"),\n",
    "    metadata[\"source\"] = record.get(\"source\"),\n",
    "    metadata[\"question\"] = record.get(\"question\"),\n",
    "    metadata[\"last_updated\"] = record.get(\"last_updated\"),\n",
    "\n",
    "    return metadata\n",
    "loader = JSONLoader(doc_path,\n",
    "                    jq_schema=\".[]\",\n",
    "                    content_key = \"answer_snippet\",\n",
    "                    metadata_func= metadata_func,\n",
    "                    )   \n",
    "documents = loader.load()\n"
   ]
  },
  {
   "cell_type": "code",
   "execution_count": 6,
   "id": "dc689f31",
   "metadata": {},
   "outputs": [],
   "source": [
    "# Extract all page_content values\n",
    "page_contents = [doc.page_content for doc in documents]\n",
    "# page_contents"
   ]
  },
  {
   "cell_type": "code",
   "execution_count": 7,
   "id": "4e264aad",
   "metadata": {},
   "outputs": [],
   "source": [
    "metadata = [doc.metadata for doc in documents]\n",
    "# metadata"
   ]
  },
  {
   "cell_type": "code",
   "execution_count": 8,
   "id": "bb025c79",
   "metadata": {},
   "outputs": [
    {
     "data": {
      "text/plain": [
       "79.3"
      ]
     },
     "execution_count": 8,
     "metadata": {},
     "output_type": "execute_result"
    }
   ],
   "source": [
    "# FOr all document, checking the average characters count\n",
    "sum(len(pg) for pg in page_contents)/len(page_contents)"
   ]
  },
  {
   "cell_type": "markdown",
   "id": "0283408c",
   "metadata": {},
   "source": [
    "## Create vector store\n"
   ]
  },
  {
   "cell_type": "code",
   "execution_count": 9,
   "id": "276c4c05",
   "metadata": {},
   "outputs": [],
   "source": [
    "from langchain_weaviate.vectorstores import WeaviateVectorStore\n",
    "db = WeaviateVectorStore.from_documents(documents, emd_call, client=client)\n"
   ]
  },
  {
   "cell_type": "code",
   "execution_count": 10,
   "id": "0a6c963b",
   "metadata": {},
   "outputs": [
    {
     "data": {
      "text/plain": [
       "30"
      ]
     },
     "execution_count": 10,
     "metadata": {},
     "output_type": "execute_result"
    }
   ],
   "source": [
    "len(documents)"
   ]
  },
  {
   "cell_type": "markdown",
   "id": "b7d3f77e",
   "metadata": {},
   "source": [
    "## Create Langgraph"
   ]
  },
  {
   "cell_type": "markdown",
   "id": "5128f215",
   "metadata": {},
   "source": [
    "### Define State"
   ]
  },
  {
   "cell_type": "code",
   "execution_count": 42,
   "id": "768d01e5",
   "metadata": {},
   "outputs": [],
   "source": [
    "from typing import TypedDict, List, Dict, Annotated\n",
    "class ragState(TypedDict):\n",
    "    user_question: Annotated[str, \"the question asked by user\"]\n",
    "    top_k: Annotated[int, \"top k answers to be retrieved from vectorstore\"]\n",
    "    kb_hits: Annotated[List[Dict], \"list of retrieved knowledge base hits\"]\n",
    "    initial_answer: Annotated[str, \"the initial answer to the user question based on retrieved knowledge base hits generated by LLM\"]\n",
    "    critique_comment: Annotated[str, \"the critique result of the initial answer generated by LLM\"]\n",
    "    refined_answer: Annotated[str, \"the refined answer to the user question based on the critique result generated by LLM\"]\n",
    "    answer: Annotated[str, \"the final answer to the user question\"]"
   ]
  },
  {
   "cell_type": "markdown",
   "id": "33aff759",
   "metadata": {},
   "source": [
    "### Define retrieve_kb node"
   ]
  },
  {
   "cell_type": "code",
   "execution_count": 43,
   "id": "8585861a",
   "metadata": {},
   "outputs": [],
   "source": [
    "# add modes\n",
    "\n",
    "def retrieve_kb(state:ragState)->List[Dict]:\n",
    "    retriever = db.as_retriever(search_type=\"similarity\", search_kwargs={\"k\": state[\"top_k\"]})\n",
    "    ret_docs = retriever.invoke(state[\"user_question\"])\n",
    "    kb_hits = [{\"doc_id\":doc.metadata[\"doc_id\"],\"answer_snippet\":doc.page_content, \"source\":doc.metadata[\"source\"]} for doc in ret_docs]\n",
    "    print(\"kb_hits retrieved are : \",kb_hits)\n",
    "    return {\"kb_hits\":kb_hits}"
   ]
  },
  {
   "cell_type": "markdown",
   "id": "63b7d39e",
   "metadata": {},
   "source": [
    "### Define generate_answer node"
   ]
  },
  {
   "cell_type": "code",
   "execution_count": 44,
   "id": "2ffa4d2c",
   "metadata": {},
   "outputs": [],
   "source": [
    "from langchain_core.prompts import ChatPromptTemplate\n",
    "def generate_answer(state: ragState) -> str:\n",
    "    context_prep = [(i[\"doc_id\"] , i[\"answer_snippet\"]) for i in state[\"kb_hits\"]]\n",
    "    message = ChatPromptTemplate.from_messages([\n",
    "        ('system', \"\"\"You are a software best-practices assistant.\n",
    "User Question:\n",
    "{user_question}\n",
    "\n",
    "Retrieved Snippets:\n",
    "{context}\n",
    "\n",
    "Task:\n",
    "Based on these snippets, write a concise answer to the user’s question.\n",
    "Cite each snippet you use by its doc_id in square brackets (e.g., [KB004]).\n",
    "Return only the answer text.\n",
    "         \"\"\"),\n",
    "        ('user', \"{user_question}\"),]\n",
    "         ).invoke({\"user_question\": state[\"user_question\"],\n",
    "                    \"context\": context_prep},config={\"temperature\": 0.0})\n",
    "    \n",
    "    response = llm_call.invoke(message)\n",
    "    print(\"initial_answer generated is : \",response.content)\n",
    "    return {\"initial_answer\":response.content}"
   ]
  },
  {
   "cell_type": "markdown",
   "id": "23db1525",
   "metadata": {},
   "source": [
    "### Define critique_answer node"
   ]
  },
  {
   "cell_type": "code",
   "execution_count": 45,
   "id": "ffa6376e",
   "metadata": {},
   "outputs": [],
   "source": [
    "def critique_answer(state: ragState) -> str:\n",
    "    context_prep = [(i[\"doc_id\"] , i[\"answer_snippet\"]) for i in state[\"kb_hits\"]]\n",
    "    message = ChatPromptTemplate.from_messages([\n",
    "        ('system', \"\"\"You are a critical QA assistant. The user asked: {user_question}\n",
    "\n",
    "Initial Answer:\n",
    "{initial_answer}\n",
    "\n",
    "KB Snippets:\n",
    "{context}\n",
    "\n",
    "Task:\n",
    "Determine if the initial answer fully addresses the question using only these snippets.\n",
    "- If it does, respond exactly: COMPLETE\n",
    "- If it misses any point or cites missing info, respond: REFINE: <short list of missing topic keywords>\n",
    "\n",
    "Return exactly one line.\n",
    "         \"\"\"),\n",
    "        ('user', \"{user_question}\"),]\n",
    "         ).invoke({\"user_question\": state[\"user_question\"],\n",
    "                   \"initial_answer\": state[\"initial_answer\"],\n",
    "                    \"context\": context_prep},config={\"temperature\": 0.0})\n",
    "    \n",
    "    response = llm_call.invoke(message)\n",
    "    print(\"critique_comment is : \",response.content)\n",
    "    return {\"critique_comment\":response.content}"
   ]
  },
  {
   "cell_type": "markdown",
   "id": "12c8c18d",
   "metadata": {},
   "source": [
    "### Define refine_answer node"
   ]
  },
  {
   "cell_type": "code",
   "execution_count": 46,
   "id": "76fd8bd7",
   "metadata": {},
   "outputs": [],
   "source": [
    "def refine_answer(state: ragState) -> str:\n",
    "    additional_kb_hits= retrieve_kb({\"user_question\": f\"{state['user_question']} and information on {state['critique_comment']}\",\n",
    "                                       \"top_k\": 1})[\"kb_hits\"]\n",
    "    print(additional_kb_hits)\n",
    "    additional_context_prep = [(i[\"doc_id\"] , i[\"answer_snippet\"]) for i in additional_kb_hits]\n",
    "    message = ChatPromptTemplate.from_messages([\n",
    "        ('system', \"\"\"You are a software best-practices assistant refining your answer. \n",
    "         The user asked: {user_question}\n",
    "\n",
    "Initial Answer:\n",
    "{initial_answer}\n",
    "\n",
    "Critique: {critique_comment}\n",
    "\n",
    "Additional Snippet:\n",
    "{additional_context_prep}\n",
    "\n",
    "Task:\n",
    "Incorporate this snippet into the answer, covering the missing points.\n",
    "Cite any snippet you use by doc_id in square brackets.\n",
    "Return only the final refined answer.\n",
    "         \"\"\"),\n",
    "        ('user', \"{user_question}\"),]\n",
    "         ).invoke({\"user_question\": state[\"user_question\"],\n",
    "                   \"initial_answer\": state[\"initial_answer\"],\n",
    "                    \"critique_comment\": state[\"critique_comment\"],\n",
    "                    \"additional_context_prep\":additional_context_prep},config={\"temperature\": 0.0})\n",
    "    \n",
    "    response = llm_call.invoke(message,)\n",
    "    print(\"refined answer is : \",response.content)\n",
    "    return {\"refined_answer\":response.content}"
   ]
  },
  {
   "cell_type": "markdown",
   "id": "c63f16d7",
   "metadata": {},
   "source": [
    "### Define json_response node"
   ]
  },
  {
   "cell_type": "code",
   "execution_count": 47,
   "id": "e3fd44cf",
   "metadata": {},
   "outputs": [],
   "source": [
    "def json_response(state: ragState) -> str:\n",
    "    if state.get(\"critique_comment\", \"\").strip().upper() == \"COMPLETE\":\n",
    "        return {\"answer\":state[\"initial_answer\"]}\n",
    "    elif state.get(\"critique_comment\",\"\").strip().upper().startswith(\"REFINE:\"):\n",
    "        return {\"answer\":state[\"refined_answer\"]}"
   ]
  },
  {
   "cell_type": "markdown",
   "id": "3cb69217",
   "metadata": {},
   "source": [
    "### Define decision_route"
   ]
  },
  {
   "cell_type": "code",
   "execution_count": 48,
   "id": "324000ca",
   "metadata": {},
   "outputs": [],
   "source": [
    "def decision_route(state: ragState) -> str:\n",
    "    if state.get(\"critique_comment\", \"\").strip().upper() == \"COMPLETE\":\n",
    "        return \"finalize_answer\"\n",
    "    elif state.get(\"critique_comment\",\"\").strip().upper().startswith(\"REFINE:\"):\n",
    "        return \"refine\"\n",
    "    # if state[\"critique_comment\"] == \"COMPLETE\":\n",
    "    #     return \"finalize_answer\"\n",
    "    # elif state[\"critique_comment\"].startswith(\"REFINE:\"):\n",
    "    #     return \"refine\"\n",
    "    else:\n",
    "        raise ValueError(f\"Unexpected critique_comment: {state[\"critique_comment\"]}\")"
   ]
  },
  {
   "cell_type": "markdown",
   "id": "e84c8287",
   "metadata": {},
   "source": [
    "### Build Graph"
   ]
  },
  {
   "cell_type": "code",
   "execution_count": 49,
   "id": "afb41ca6",
   "metadata": {},
   "outputs": [
    {
     "data": {
      "image/png": "[encoded data removed]",
      "text/plain": [
       "<langgraph.graph.state.CompiledStateGraph object at 0x0000023E61716360>"
      ]
     },
     "execution_count": 49,
     "metadata": {},
     "output_type": "execute_result"
    }
   ],
   "source": [
    "\n",
    "builder = StateGraph(ragState)\n",
    "builder.add_node(\"retriever\",retrieve_kb)\n",
    "builder.add_node(\"generator\",generate_answer)\n",
    "builder.add_node(\"critique\", critique_answer)\n",
    "builder.add_node(\"refine\", refine_answer)\n",
    "builder.add_node(\"finalize_answer\", json_response)\n",
    "\n",
    "\n",
    "builder.add_edge(START,\"retriever\")\n",
    "builder.add_edge(\"retriever\",\"generator\")\n",
    "builder.add_edge(\"generator\",\"critique\")\n",
    "builder.add_conditional_edges(\"critique\",decision_route\n",
    "                              ,{\"finalize_answer\": \"finalize_answer\",\"refine\": \"refine\"})\n",
    "builder.add_edge(\"refine\", \"finalize_answer\")\n",
    "builder.add_edge(\"finalize_answer\", END)\n",
    "raggraph = builder.compile()\n",
    "raggraph"
   ]
  },
  {
   "cell_type": "markdown",
   "id": "fe5b4fad",
   "metadata": {},
   "source": [
    "## Test report"
   ]
  },
  {
   "cell_type": "code",
   "execution_count": 54,
   "id": "8b95ff27",
   "metadata": {},
   "outputs": [
    {
     "name": "stdout",
     "output_type": "stream",
     "text": [
      "kb_hits retrieved are :  [{'doc_id': ['KB013'], 'answer_snippet': \"When addressing caching, it's important to follow well-defined patterns...\", 'source': ['caching_guide.md']}, {'doc_id': ['KB003'], 'answer_snippet': \"When addressing caching, it's important to follow well-defined patterns...\", 'source': ['caching_guide.md']}, {'doc_id': ['KB023'], 'answer_snippet': \"When addressing caching, it's important to follow well-defined patterns...\", 'source': ['caching_guide.md']}, {'doc_id': ['KB022'], 'answer_snippet': \"When addressing performance tuning, it's important to follow well-defined patterns...\", 'source': ['performance tuning_guide.md']}, {'doc_id': ['KB002'], 'answer_snippet': \"When addressing performance tuning, it's important to follow well-defined patterns...\", 'source': ['performance tuning_guide.md']}]\n",
      "initial_answer generated is :  When addressing caching, it's important to follow well-defined patterns. This includes strategies such as:\n",
      "\n",
      "1. **Specify Cache Expiration**: Define how long cached data should remain valid to ensure freshness and relevance.\n",
      "2. **Use Cache Invalidation**: Implement mechanisms to invalidate or update the cache when underlying data changes.\n",
      "3. **Choose Appropriate Cache Types**: Depending on your data and access patterns, decide between in-memory caching, distributed caching, or disk-based caching.\n",
      "4. **Monitor Cache Performance**: Regularly assess cache hit ratios and performance metrics to optimize caching strategies.\n",
      "5. **Avoid Over-Caching**: Be cautious not to cache too much data, as this can lead to memory issues and degrade performance.\n",
      "\n",
      "By adhering to these best practices, you can enhance application performance and ensure that your caching strategy is effective. [KB013], [KB003], [KB022].\n",
      "critique_comment is :  COMPLETE\n",
      "\n",
      "------------- Final Response -------------\n",
      "\n",
      "When addressing caching, it's important to follow well-defined patterns. This includes strategies such as:\n",
      "\n",
      "1. **Specify Cache Expiration**: Define how long cached data should remain valid to ensure freshness and relevance.\n",
      "2. **Use Cache Invalidation**: Implement mechanisms to invalidate or update the cache when underlying data changes.\n",
      "3. **Choose Appropriate Cache Types**: Depending on your data and access patterns, decide between in-memory caching, distributed caching, or disk-based caching.\n",
      "4. **Monitor Cache Performance**: Regularly assess cache hit ratios and performance metrics to optimize caching strategies.\n",
      "5. **Avoid Over-Caching**: Be cautious not to cache too much data, as this can lead to memory issues and degrade performance.\n",
      "\n",
      "By adhering to these best practices, you can enhance application performance and ensure that your caching strategy is effective. [KB013], [KB003], [KB022].\n"
     ]
    }
   ],
   "source": [
    "Q1 = \"What are best practices for caching?\"\n",
    "response = raggraph.invoke({\"user_question\": Q1,\n",
    "                            \"top_k\": 5,})\n",
    "print(\"\\n------------- Final Response -------------\\n\")\n",
    "print(response[\"answer\"])"
   ]
  },
  {
   "cell_type": "code",
   "execution_count": 55,
   "id": "158d77bf",
   "metadata": {},
   "outputs": [
    {
     "name": "stdout",
     "output_type": "stream",
     "text": [
      "kb_hits retrieved are :  [{'doc_id': ['KB027'], 'answer_snippet': \"When addressing CI/CD, it's important to follow well-defined patterns...\", 'source': ['CI/CD_guide.md']}, {'doc_id': ['KB007'], 'answer_snippet': \"When addressing CI/CD, it's important to follow well-defined patterns...\", 'source': ['CI/CD_guide.md']}, {'doc_id': ['KB017'], 'answer_snippet': \"When addressing CI/CD, it's important to follow well-defined patterns...\", 'source': ['CI/CD_guide.md']}, {'doc_id': ['KB006'], 'answer_snippet': \"When addressing unit testing, it's important to follow well-defined patterns...\", 'source': ['unit testing_guide.md']}, {'doc_id': ['KB026'], 'answer_snippet': \"When addressing unit testing, it's important to follow well-defined patterns...\", 'source': ['unit testing_guide.md']}]\n",
      "initial_answer generated is :  When setting up CI/CD pipelines, it's important to follow well-defined patterns to ensure efficiency and reliability throughout the software development lifecycle. This includes automating the building, testing, and deploying of code to streamline the process, minimizing manual intervention. Additionally, ensure your pipelines are modular and scalable, allowing for easy integration of different tools and services as your project evolves [KB027][KB007][KB017].\n",
      "critique_comment is :  REFINE: automation, testing, deployment, modular, scalable, integration\n",
      "kb_hits retrieved are :  [{'doc_id': ['KB027'], 'answer_snippet': \"When addressing CI/CD, it's important to follow well-defined patterns...\", 'source': ['CI/CD_guide.md']}]\n",
      "[{'doc_id': ['KB027'], 'answer_snippet': \"When addressing CI/CD, it's important to follow well-defined patterns...\", 'source': ['CI/CD_guide.md']}]\n",
      "refined answer is :  When setting up CI/CD pipelines, it's important to follow well-defined patterns to ensure efficiency and reliability throughout the software development lifecycle [KB027]. Begin by automating the entire process, including building, testing, and deploying your code. This automation minimizes manual intervention and reduces the chances of human error. \n",
      "\n",
      "Incorporate comprehensive testing at each stage of the pipeline to catch issues early, enhancing code quality and stability. Additionally, ensure your pipelines are modular and scalable, allowing for the easy integration of different tools and services as your project evolves. This approach facilitates flexibility and accommodates future growth [KB007][KB017]. By establishing a robust CI/CD framework, you can streamline development workflows and accelerate your delivery process.\n",
      "\n",
      "------------- Final Response -------------\n",
      "\n",
      "When setting up CI/CD pipelines, it's important to follow well-defined patterns to ensure efficiency and reliability throughout the software development lifecycle [KB027]. Begin by automating the entire process, including building, testing, and deploying your code. This automation minimizes manual intervention and reduces the chances of human error. \n",
      "\n",
      "Incorporate comprehensive testing at each stage of the pipeline to catch issues early, enhancing code quality and stability. Additionally, ensure your pipelines are modular and scalable, allowing for the easy integration of different tools and services as your project evolves. This approach facilitates flexibility and accommodates future growth [KB007][KB017]. By establishing a robust CI/CD framework, you can streamline development workflows and accelerate your delivery process.\n"
     ]
    }
   ],
   "source": [
    "Q2 = \"How should I set up CI/CD pipelines?\"\n",
    "response = raggraph.invoke({\"user_question\": Q2,\n",
    "                            \"top_k\": 5,})\n",
    "print(\"\\n------------- Final Response -------------\\n\")\n",
    "print(response[\"answer\"])"
   ]
  },
  {
   "cell_type": "code",
   "execution_count": 58,
   "id": "257745ce",
   "metadata": {},
   "outputs": [
    {
     "name": "stdout",
     "output_type": "stream",
     "text": [
      "kb_hits retrieved are :  [{'doc_id': ['KB022'], 'answer_snippet': \"When addressing performance tuning, it's important to follow well-defined patterns...\", 'source': ['performance tuning_guide.md']}, {'doc_id': ['KB002'], 'answer_snippet': \"When addressing performance tuning, it's important to follow well-defined patterns...\", 'source': ['performance tuning_guide.md']}, {'doc_id': ['KB012'], 'answer_snippet': \"When addressing performance tuning, it's important to follow well-defined patterns...\", 'source': ['performance tuning_guide.md']}, {'doc_id': ['KB013'], 'answer_snippet': \"When addressing caching, it's important to follow well-defined patterns...\", 'source': ['caching_guide.md']}, {'doc_id': ['KB003'], 'answer_snippet': \"When addressing caching, it's important to follow well-defined patterns...\", 'source': ['caching_guide.md']}]\n",
      "initial_answer generated is :  When addressing performance tuning, it's important to follow well-defined patterns to ensure effective optimization. Key areas to focus on include efficient algorithm design, minimizing I/O operations, optimizing database queries, and implementing proper caching strategies. By systematically analyzing and refining these aspects, you can significantly enhance overall application performance. [KB022], [KB002], [KB012]\n",
      "critique_comment is :  REFINE: specific strategies, detailed examples\n",
      "kb_hits retrieved are :  [{'doc_id': ['KB022'], 'answer_snippet': \"When addressing performance tuning, it's important to follow well-defined patterns...\", 'source': ['performance tuning_guide.md']}]\n",
      "[{'doc_id': ['KB022'], 'answer_snippet': \"When addressing performance tuning, it's important to follow well-defined patterns...\", 'source': ['performance tuning_guide.md']}]\n",
      "refined answer is :  When addressing performance tuning, it's important to follow well-defined patterns to ensure effective optimization. Here are some specific strategies you can implement:\n",
      "\n",
      "1. **Efficient Algorithm Design**: Choose algorithms with better time complexity. For example, prefer quicksort over bubble sort for large datasets. Utilize data structures that provide efficient access and manipulation, such as hash tables for quick lookups.\n",
      "\n",
      "2. **Minimizing I/O Operations**: Reduce the number of I/O operations by batching read and write requests. For instance, instead of writing data one record at a time to a file, accumulate several records in memory and write them out in a single operation.\n",
      "\n",
      "3. **Optimizing Database Queries**: Analyze and optimize your queries to reduce execution time. Use indexing wisely; for example, adding an index on a frequently queried column can drastically improve search speed. Also, avoid selecting all columns with `SELECT *` and instead specify only the columns you need.\n",
      "\n",
      "4. **Implementing Proper Caching Strategies**: Utilize caching to store frequently accessed data in-memory. Consider using an in-memory data store like Redis to cache results of expensive queries or computationally intensive processes to reduce load times.\n",
      "\n",
      "5. **Monitoring and Profiling**: Use profiling tools for your programming language or environment to identify bottlenecks in your application. For instance, tools like Apache JMeter or New Relic can help you monitor performance during different load conditions and provide insights into which areas need improvement.\n",
      "\n",
      "By systematically analyzing and refining these aspects, you can significantly enhance overall application performance [KB022].\n",
      "\n",
      "------------- Final Response -------------\n",
      "\n",
      "When addressing performance tuning, it's important to follow well-defined patterns to ensure effective optimization. Here are some specific strategies you can implement:\n",
      "\n",
      "1. **Efficient Algorithm Design**: Choose algorithms with better time complexity. For example, prefer quicksort over bubble sort for large datasets. Utilize data structures that provide efficient access and manipulation, such as hash tables for quick lookups.\n",
      "\n",
      "2. **Minimizing I/O Operations**: Reduce the number of I/O operations by batching read and write requests. For instance, instead of writing data one record at a time to a file, accumulate several records in memory and write them out in a single operation.\n",
      "\n",
      "3. **Optimizing Database Queries**: Analyze and optimize your queries to reduce execution time. Use indexing wisely; for example, adding an index on a frequently queried column can drastically improve search speed. Also, avoid selecting all columns with `SELECT *` and instead specify only the columns you need.\n",
      "\n",
      "4. **Implementing Proper Caching Strategies**: Utilize caching to store frequently accessed data in-memory. Consider using an in-memory data store like Redis to cache results of expensive queries or computationally intensive processes to reduce load times.\n",
      "\n",
      "5. **Monitoring and Profiling**: Use profiling tools for your programming language or environment to identify bottlenecks in your application. For instance, tools like Apache JMeter or New Relic can help you monitor performance during different load conditions and provide insights into which areas need improvement.\n",
      "\n",
      "By systematically analyzing and refining these aspects, you can significantly enhance overall application performance [KB022].\n"
     ]
    }
   ],
   "source": [
    "Q3 = \"What are performance tuning tips?\"\n",
    "response = raggraph.invoke({\"user_question\": Q3,\n",
    "                            \"top_k\": 5,})\n",
    "print(\"\\n------------- Final Response -------------\\n\")\n",
    "print(response[\"answer\"])"
   ]
  },
  {
   "cell_type": "code",
   "execution_count": 57,
   "id": "75c2e688",
   "metadata": {},
   "outputs": [
    {
     "name": "stdout",
     "output_type": "stream",
     "text": [
      "kb_hits retrieved are :  [{'doc_id': ['KB015'], 'answer_snippet': \"When addressing API versioning, it's important to follow well-defined patterns...\", 'source': ['API versioning_guide.md']}, {'doc_id': ['KB005'], 'answer_snippet': \"When addressing API versioning, it's important to follow well-defined patterns...\", 'source': ['API versioning_guide.md']}, {'doc_id': ['KB025'], 'answer_snippet': \"When addressing API versioning, it's important to follow well-defined patterns...\", 'source': ['API versioning_guide.md']}, {'doc_id': ['KB027'], 'answer_snippet': \"When addressing CI/CD, it's important to follow well-defined patterns...\", 'source': ['CI/CD_guide.md']}, {'doc_id': ['KB007'], 'answer_snippet': \"When addressing CI/CD, it's important to follow well-defined patterns...\", 'source': ['CI/CD_guide.md']}]\n",
      "initial_answer generated is :  When versioning your APIs, it's crucial to follow well-defined patterns to ensure clarity and usability. You can consider methods such as including the version number in the URL (e.g., /v1/resource), using request headers, or employing a query parameter. Establishing a clear versioning strategy helps maintain compatibility as your API evolves. Additionally, ensure to communicate changes effectively to your users to minimize disruption [KB015][KB005][KB025].\n",
      "critique_comment is :  COMPLETE\n",
      "\n",
      "------------- Final Response -------------\n",
      "\n",
      "When versioning your APIs, it's crucial to follow well-defined patterns to ensure clarity and usability. You can consider methods such as including the version number in the URL (e.g., /v1/resource), using request headers, or employing a query parameter. Establishing a clear versioning strategy helps maintain compatibility as your API evolves. Additionally, ensure to communicate changes effectively to your users to minimize disruption [KB015][KB005][KB025].\n"
     ]
    }
   ],
   "source": [
    "Q4 = \"How do I version my APIs?\"\n",
    "response = raggraph.invoke({\"user_question\": Q4,\n",
    "                            \"top_k\": 5,})\n",
    "print(\"\\n------------- Final Response -------------\\n\")\n",
    "print(response[\"answer\"])"
   ]
  },
  {
   "cell_type": "code",
   "execution_count": 56,
   "id": "6eccb0c9",
   "metadata": {},
   "outputs": [
    {
     "name": "stdout",
     "output_type": "stream",
     "text": [
      "kb_hits retrieved are :  [{'doc_id': ['KB029'], 'answer_snippet': \"When addressing error handling, it's important to follow well-defined patterns...\", 'source': ['error handling_guide.md']}, {'doc_id': ['KB009'], 'answer_snippet': \"When addressing error handling, it's important to follow well-defined patterns...\", 'source': ['error handling_guide.md']}, {'doc_id': ['KB019'], 'answer_snippet': \"When addressing error handling, it's important to follow well-defined patterns...\", 'source': ['error handling_guide.md']}, {'doc_id': ['KB001'], 'answer_snippet': \"When addressing debugging, it's important to follow well-defined patterns...\", 'source': ['debugging_guide.md']}, {'doc_id': ['KB011'], 'answer_snippet': \"When addressing debugging, it's important to follow well-defined patterns...\", 'source': ['debugging_guide.md']}]\n",
      "initial_answer generated is :  When addressing error handling, it's important to follow well-defined patterns to ensure that errors are managed effectively. This includes considerations such as proper categorization of errors, providing meaningful messages, logging errors for review, and implementing retry mechanisms where applicable. Additionally, you should ensure that your error handling strategies do not reveal sensitive information and maintain a good user experience even when errors occur. [KB029], [KB009], [KB019].\n",
      "critique_comment is :  COMPLETE\n",
      "\n",
      "------------- Final Response -------------\n",
      "\n",
      "When addressing error handling, it's important to follow well-defined patterns to ensure that errors are managed effectively. This includes considerations such as proper categorization of errors, providing meaningful messages, logging errors for review, and implementing retry mechanisms where applicable. Additionally, you should ensure that your error handling strategies do not reveal sensitive information and maintain a good user experience even when errors occur. [KB029], [KB009], [KB019].\n"
     ]
    }
   ],
   "source": [
    "Q5 = \"What should I consider for error handling?\"\n",
    "response = raggraph.invoke({\"user_question\": Q5,\n",
    "                            \"top_k\": 5,})\n",
    "print(\"\\n------------- Final Response -------------\\n\")\n",
    "print(response[\"answer\"])"
   ]
  }
 ],
 "metadata": {
  "kernelspec": {
   "display_name": ".venv",
   "language": "python",
   "name": "python3"
  },
  "language_info": {
   "codemirror_mode": {
    "name": "ipython",
    "version": 3
   },
   "file_extension": ".py",
   "mimetype": "text/x-python",
   "name": "python",
   "nbconvert_exporter": "python",
   "pygments_lexer": "ipython3",
   "version": "3.13.0"
  }
 },
 "nbformat": 4,
 "nbformat_minor": 5
}
