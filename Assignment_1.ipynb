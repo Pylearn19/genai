{
 "cells": [
  {
   "cell_type": "markdown",
   "id": "fa2f1fc0",
   "metadata": {},
   "source": [
    "## Do all necessary imports and client setup \n",
    "###### -- use it to setup the python environment and install all packages\n",
    "###### --  make sure to start the kernal post installation\n"
   ]
  },
  {
   "cell_type": "code",
   "execution_count": 1,
   "id": "76adde2b",
   "metadata": {},
   "outputs": [],
   "source": [
    "# ! pip install yahoo_fin\n",
    "# ! pip install html5lib\n",
    "# ! pip install yahooquery\n",
    "# ! pip install yfinance\n",
    "# ! pip install langchain\n",
    "# ! pip install langchain-openai\n",
    "# ! pip install langchain-community\n",
    "# ! pip install langfuse\n"
   ]
  },
  {
   "cell_type": "code",
   "execution_count": null,
   "id": "7a7f45aa",
   "metadata": {},
   "outputs": [],
   "source": [
    "import os\n",
    "from langchain_openai import AzureChatOpenAI\n",
    "# setup azure openai \n",
    "llm_call = AzureChatOpenAI(api_key= os.getenv(\"AZURE_OPENAI_API_KEY\"),\n",
    "        azure_endpoint= os.getenv(\"AZURE_OPENAI_ENDPOINT\"),\n",
    "        api_version=os.getenv(\"OPENAI_API_VERSION\"),\n",
    "        model=os.getenv(\"MODEL\"),\n",
    "        )"
   ]
  },
  {
   "cell_type": "code",
   "execution_count": null,
   "id": "371252c2",
   "metadata": {},
   "outputs": [],
   "source": [
    "from uuid import uuid4\n",
    "from langfuse import Langfuse\n",
    "from langfuse import get_client\n",
    "from langfuse.langchain import CallbackHandler\n",
    "\n",
    "# setup langfuse\n",
    "LANGFUSE_TRACING_ENABLED = True\n",
    "Langfuse()\n",
    "langfuse = get_client()\n",
    "langfuse_handler = CallbackHandler()"
   ]
  },
  {
   "cell_type": "markdown",
   "id": "267ff8ba",
   "metadata": {},
   "source": [
    "## Get stock code for the provided company name"
   ]
  },
  {
   "cell_type": "code",
   "execution_count": 4,
   "id": "80580e4f",
   "metadata": {},
   "outputs": [],
   "source": [
    "from yahooquery import search\n",
    "def get_yahoo_ticker(company_name :str) -> str:\n",
    "    \"\"\"\n",
    "    Extract the stock symbol for a given company name using yahooquery.search.\n",
    "    \"\"\"\n",
    "    result = search(company_name)\n",
    "    try:\n",
    "        if 'quotes' in result and result['quotes']:\n",
    "            top_result = result['quotes'][0]\n",
    "            # print(\"get_yahoo_ticker run is successful\",top_result['symbol'])\n",
    "            return top_result['symbol']\n",
    "        else:\n",
    "            pass\n",
    "    except Exception as e:\n",
    "        print(f\"Error getting stock symbol: {e}\")\n",
    "        return None"
   ]
  },
  {
   "cell_type": "markdown",
   "id": "acff4b16",
   "metadata": {},
   "source": [
    "## Get financial news for the stock code"
   ]
  },
  {
   "cell_type": "code",
   "execution_count": 5,
   "id": "c7469829",
   "metadata": {},
   "outputs": [
    {
     "name": "stderr",
     "output_type": "stream",
     "text": [
      "USER_AGENT environment variable not set, consider setting it to identify your requests.\n"
     ]
    }
   ],
   "source": [
    "from langchain_community.tools.yahoo_finance_news import YahooFinanceNewsTool\n",
    "def get_financial_news(ticker):\n",
    "    \"\"\"\n",
    "    Fetches the complete financial news for a given company stock code using YahooFinanceNewsTool.\n",
    "    \"\"\"\n",
    "    try:\n",
    "        news_tool = YahooFinanceNewsTool()\n",
    "        news = news_tool.invoke(ticker)\n",
    "        return news\n",
    "    except Exception as e:\n",
    "        print(f\"Error getting news for the company code: {e}\")\n",
    "        return None"
   ]
  },
  {
   "cell_type": "markdown",
   "id": "7f6864bc",
   "metadata": {},
   "source": [
    "## Define pydantic output parser"
   ]
  },
  {
   "cell_type": "code",
   "execution_count": 6,
   "id": "8ebf4a14",
   "metadata": {},
   "outputs": [],
   "source": [
    "from langchain.output_parsers import PydanticOutputParser\n",
    "from pydantic import BaseModel\n",
    "\n",
    "class SentimentOutput(BaseModel):\n",
    "    company_name: str\n",
    "    stock_code: str\n",
    "    newsdesc: str\n",
    "    sentiment: str\n",
    "    people_names: list[str]\n",
    "    places_names: list[str]\n",
    "    other_companies_referred: list[str]\n",
    "    related_industries: list[str]\n",
    "    market_implications: str\n",
    "    confidence_score: float\n",
    "\n",
    "output_parser = PydanticOutputParser(pydantic_object=SentimentOutput)"
   ]
  },
  {
   "cell_type": "markdown",
   "id": "35ea1a71",
   "metadata": {},
   "source": [
    "## Register prompt with Langfuse"
   ]
  },
  {
   "cell_type": "code",
   "execution_count": 9,
   "id": "98095b1c",
   "metadata": {},
   "outputs": [],
   "source": [
    "def _ensure_prompt(name: str, \n",
    "                   prompt: str, \n",
    "                   model=os.getenv(\"MODEL\"), \n",
    "                   temperature=0.7,\n",
    "                   type=\"text\",\n",
    "                   labels = \"production\",\n",
    "                   update_existing=False):\n",
    "    \"\"\"\n",
    "    Ensure that a prompt with the given name exists in Langfuse.\n",
    "    If it does not exist, create it with the specified parameters.\n",
    "    \"\"\"\n",
    "    try:\n",
    "        if update_existing:\n",
    "            langfuse.create_prompt(name = name, \n",
    "                                   prompt = prompt, \n",
    "                                   config={\"model\": model, \"temperature\": temperature},\n",
    "                                   labels=[labels], type=type,\n",
    "                                   output_parser = output_parser.get_format_instructions(),\n",
    "                                   )\n",
    "        else:\n",
    "            langfuse.get_prompt(name)\n",
    "    except Exception as e:\n",
    "        print(\"exception in _ensure_prompt:\", e)\n",
    "    langfuse.create_prompt(\n",
    "        name=name,\n",
    "        prompt=prompt,\n",
    "        config={\"model\": model, \"temperature\": temperature},\n",
    "        labels=[labels],\n",
    "        type=type,\n",
    "        output_parser = output_parser.get_format_instructions(),  \n",
    "    )\n",
    "\n",
    "\n",
    "def register_prompts():\n",
    "    \"\"\"\n",
    "    Register or update the necessary prompts in Langfuse.\n",
    "    \"\"\"\n",
    "    _ensure_prompt(\n",
    "        \"analyse-market-sentiment\",\n",
    "        \"\"\"\n",
    "        You are a financial analyst. Given recent news headlines, analyze the sentiment and extract the following in JSON format:\n",
    "\n",
    "        {format_instructions}\n",
    "\n",
    "        News:\n",
    "        {news}\n",
    "\n",
    "        Company Name: {company_name}\n",
    "        Stock Code: {stock_code}\n",
    "        Make sure to format your response as JSON using the following schema:\\n{format_instructions}\n",
    "        \"\"\")"
   ]
  },
  {
   "cell_type": "markdown",
   "id": "2cb0ae72",
   "metadata": {},
   "source": [
    "## pass inputs to the prompt fetched from langfuse to use"
   ]
  },
  {
   "cell_type": "code",
   "execution_count": 10,
   "id": "c4249fc4",
   "metadata": {},
   "outputs": [],
   "source": [
    "from langchain_core.prompts import ChatPromptTemplate\n",
    "fetch_prompt = langfuse.get_prompt(\"analyse-market-sentiment\")\n",
    "filled_prompt = ChatPromptTemplate.from_messages([\n",
    "    ('system', fetch_prompt.get_langchain_prompt())\n",
    "]).partial(format_instructions=output_parser.get_format_instructions())"
   ]
  },
  {
   "cell_type": "markdown",
   "id": "96bc26a6",
   "metadata": {},
   "source": [
    "## define runnables and chain with langfuse tracing"
   ]
  },
  {
   "cell_type": "code",
   "execution_count": null,
   "id": "462f87b8",
   "metadata": {},
   "outputs": [],
   "source": [
    "from langchain_core.runnables import RunnableMap, RunnableLambda\n",
    "\n",
    "# Create a LangChain chain that takes a company name, fetches its ticker, retrieves financial news, and prepares a prompt for sentiment analysis\n",
    "\n",
    "# Define a function to map company_name to ticker, news, and prompt variables\n",
    "def prepare_prompt_inputs(inputs):\n",
    "    company_name = inputs[\"company_name\"]\n",
    "    ticker = get_yahoo_ticker(company_name)\n",
    "    # print(f\"Ticker for {company_name}: {ticker}\")\n",
    "    news_text = get_financial_news(ticker)\n",
    "    # print(f\"Financial news for {company_name} ({ticker}): {news_text}\")\n",
    "    return {\n",
    "        \"company_name\": company_name,\n",
    "        \"stock_code\": ticker,\n",
    "        \"news\": news_text\n",
    "    }\n",
    "\n",
    "# Wrap the function as a RunnableLambda\n",
    "prepare_prompt_inputs_runnable = RunnableLambda(prepare_prompt_inputs)\n",
    "\n",
    "# Compose the chain: company_name -> prepare_prompt_inputs -> prompt -> model -> parser\n",
    "chain= prepare_prompt_inputs_runnable | filled_prompt | llm_call\n",
    "\n"
   ]
  },
  {
   "cell_type": "markdown",
   "id": "9fe32f0e",
   "metadata": {},
   "source": [
    "## Call chain"
   ]
  },
  {
   "cell_type": "code",
   "execution_count": 13,
   "id": "fe3cdbaf",
   "metadata": {},
   "outputs": [],
   "source": [
    "# Example usage:\n",
    "company_name = \"Microsoft Corporation\"\n",
    "\n",
    "# Set trace attributes dynamically via enclosing span\n",
    "\n",
    "with langfuse.start_as_current_span(name=\"analyse-market-sentiment\") as span:\n",
    "    span.update_trace(\n",
    "        user_id=str(uuid4()),\n",
    "        session_id=\"random-session\",\n",
    "        tags=[\"assignment-1\"],\n",
    "        input={\n",
    "            \"company_name\": company_name\n",
    "        },\n",
    "    )\n",
    "\n",
    "    response = chain.invoke({\"company_name\": company_name},\n",
    "                                config={\"callbacks\":[langfuse_handler]})\n",
    "\n",
    "    span.update_trace(output={\"response\": response.content})"
   ]
  },
  {
   "cell_type": "code",
   "execution_count": null,
   "id": "08d200ca",
   "metadata": {},
   "outputs": [],
   "source": []
  }
 ],
 "metadata": {
  "kernelspec": {
   "display_name": ".venv",
   "language": "python",
   "name": "python3"
  },
  "language_info": {
   "codemirror_mode": {
    "name": "ipython",
    "version": 3
   },
   "file_extension": ".py",
   "mimetype": "text/x-python",
   "name": "python",
   "nbconvert_exporter": "python",
   "pygments_lexer": "ipython3",
   "version": "3.13.0"
  }
 },
 "nbformat": 4,
 "nbformat_minor": 5
}
