{
 "cells": [
  {
   "cell_type": "markdown",
   "id": "3a4f7140",
   "metadata": {},
   "source": [
    "## Setup environment"
   ]
  },
  {
   "cell_type": "code",
   "execution_count": null,
   "id": "52867ff8",
   "metadata": {},
   "outputs": [],
   "source": [
    "# pip install langchain langchain-openai pydantic langfuse"
   ]
  },
  {
   "cell_type": "code",
   "execution_count": 5,
   "id": "0f2bbfb5",
   "metadata": {},
   "outputs": [],
   "source": [
    "# setup langfuse environment variables\n",
    "import os\n",
    "from langfuse import Langfuse\n",
    "from langfuse import get_client\n",
    "from langfuse.langchain import CallbackHandler\n",
    "\n",
    "# setup langfuse\n",
    "LANGFUSE_TRACING_ENABLED = True\n",
    "Langfuse()\n",
    "langfuse = get_client()\n",
    "langfuse_handler = CallbackHandler()"
   ]
  },
  {
   "cell_type": "markdown",
   "id": "465287dd",
   "metadata": {},
   "source": [
    "## Define the Pydantic Model for Output Parsing"
   ]
  },
  {
   "cell_type": "code",
   "execution_count": 6,
   "id": "618d5c2f",
   "metadata": {},
   "outputs": [],
   "source": [
    "from langchain.output_parsers import PydanticOutputParser\n",
    "from pydantic import BaseModel, Field\n",
    "\n",
    "class MeetingNotes(BaseModel):\n",
    "    summary: str = Field(description=\"A two-sentence summary of the meeting's main discussion points.\")\n",
    "    action_items: list[str] = Field(description=\"A list of action items, each prefaced with a dash ('-').\")"
   ]
  },
  {
   "cell_type": "markdown",
   "id": "d487d882",
   "metadata": {},
   "source": [
    "## Register and Fetch Prompt Template from Langfuse"
   ]
  },
  {
   "cell_type": "code",
   "execution_count": 7,
   "id": "969310e0",
   "metadata": {},
   "outputs": [],
   "source": [
    "def _ensure_prompt(name: str, \n",
    "                   prompt: str, \n",
    "                   model=os.getenv(\"MODEL\"), \n",
    "                   temperature=0.0,\n",
    "                   type=\"text\",\n",
    "                   labels = \"production\",\n",
    "                   update_existing=False):\n",
    "    \"\"\"\n",
    "    Ensure that a prompt with the given name exists in Langfuse.\n",
    "    If it does not exist, create it with the specified parameters.\n",
    "    \"\"\"\n",
    "    try:\n",
    "        langfuse.get_prompt(name)\n",
    "        if update_existing:\n",
    "            langfuse.create_prompt(name = name, \n",
    "                                   prompt = prompt, \n",
    "                                   config={\"model\": model, \"temperature\": temperature},\n",
    "                                   labels=[labels], \n",
    "                                   type=type,\n",
    "                                   )\n",
    "        else:\n",
    "            pass\n",
    "            \n",
    "    except Exception as e:\n",
    "        print(\"exception in _ensure_prompt:\", e)\n",
    "    langfuse.create_prompt(\n",
    "        name=name,\n",
    "        prompt=prompt,\n",
    "        config={\"model\": model, \"temperature\": temperature},\n",
    "        labels=[labels],\n",
    "        type=type,\n",
    "    )\n",
    "\n",
    "\n",
    "def register_prompts(name: str = \"analyse-market-sentiment\",\n",
    "                     update_existing=False) -> None:\n",
    "    \"\"\"\n",
    "    Register or update the necessary prompts in Langfuse.\n",
    "    \"\"\"\n",
    "    if name == \"analyse-market-sentiment\":\n",
    "        _ensure_prompt(\n",
    "            name,\n",
    "            \"\"\"\n",
    "            You are a financial analyst. Given recent news headlines, analyze the sentiment and extract the following in JSON format:\n",
    "\n",
    "            {format_instructions}\n",
    "\n",
    "            News:\n",
    "            {news}\n",
    "\n",
    "            Company Name: {company_name}\n",
    "            Stock Code: {stock_code}\n",
    "            Make sure to format your response as JSON using the following schema:\\n{format_instructions}\n",
    "            \"\"\",\n",
    "            update_existing=update_existing)\n",
    "    elif name == \"summarize-meeting\":\n",
    "        _ensure_prompt(\n",
    "            name,\n",
    "            \"\"\"\n",
    "            You are a meeting assistant.\n",
    "            1. Summarize the meeting transcript in exactly two sentences.\n",
    "            2. A list of all action items mentioned, each prefaced with a dash (‘-’).\n",
    "            Return the result strictly as JSON with keys \"summary\" and \n",
    "            \"action_items\".\n",
    "            Transcript:\n",
    "            {transcript}\n",
    "            Make sure to format your response as JSON using the following schema:\\n{format_instructions}\n",
    "            \"\"\",\n",
    "            update_existing=update_existing)\n",
    "    elif name == \"summarize-meeting-retry\":\n",
    "        _ensure_prompt(\n",
    "            name,\n",
    "            \"\"\"\n",
    "            You are a meeting assistant.\n",
    "            1. Summarize the meeting transcript in exactly two sentences.\n",
    "            2. A list of all action items mentioned, each prefaced with a dash (‘-’).\n",
    "            Return the result strictly as JSON with keys \"summary\" and \n",
    "            \"action_items\".\n",
    "            Transcript:\n",
    "            {transcript}\n",
    "            Make sure to format your response as JSON using the following schema:\\n{format_instructions}\n",
    "            Please output valid JSON only\n",
    "            \"\"\",\n",
    "            update_existing=update_existing)\n",
    "    else:\n",
    "        print(\"pass correct prompt name\")"
   ]
  },
  {
   "cell_type": "code",
   "execution_count": 8,
   "id": "6f6bea74",
   "metadata": {},
   "outputs": [],
   "source": [
    "register_prompts(name=\"summarize-meeting\", update_existing=False)\n",
    "register_prompts(name=\"summarize-meeting-retry\", update_existing=False)"
   ]
  },
  {
   "cell_type": "code",
   "execution_count": 9,
   "id": "cb3cc280",
   "metadata": {},
   "outputs": [
    {
     "name": "stdout",
     "output_type": "stream",
     "text": [
      "\n",
      "            You are a meeting assistant.\n",
      "            1. Summarize the meeting transcript in exactly two sentences.\n",
      "            2. A list of all action items mentioned, each prefaced with a dash (‘-’).\n",
      "            Return the result strictly as JSON with keys \"summary\" and \n",
      "            \"action_items\".\n",
      "            Transcript:\n",
      "            {transcript}\n",
      "            Make sure to format your response as JSON using the following schema:\n",
      "{format_instructions}\n",
      "            \n",
      "\n",
      "            You are a meeting assistant.\n",
      "            1. Summarize the meeting transcript in exactly two sentences.\n",
      "            2. A list of all action items mentioned, each prefaced with a dash (‘-’).\n",
      "            Return the result strictly as JSON with keys \"summary\" and \n",
      "            \"action_items\".\n",
      "            Transcript:\n",
      "            {transcript}\n",
      "            Make sure to format your response as JSON using the following schema:\n",
      "{format_instructions}\n",
      "            Please output valid JSON only\n",
      "            \n"
     ]
    }
   ],
   "source": [
    "print(langfuse.get_prompt(\"summarize-meeting\").prompt)\n",
    "print(langfuse.get_prompt(\"summarize-meeting-retry\").prompt)"
   ]
  },
  {
   "cell_type": "markdown",
   "id": "3dc73a85",
   "metadata": {},
   "source": [
    "## Set Up the ChatOpenAI Model and Output Parser"
   ]
  },
  {
   "cell_type": "code",
   "execution_count": 10,
   "id": "e5d14c2a",
   "metadata": {},
   "outputs": [],
   "source": [
    "from langchain_openai import AzureChatOpenAI\n",
    "from langchain.output_parsers import PydanticOutputParser\n",
    "from langchain_core.prompts import ChatPromptTemplate\n",
    "import json\n",
    "\n",
    "def transcript_summarizer_chain(transcript: str,\n",
    "                                langfuse_prompt_name : str = \"summarize-meeting\") -> dict:\n",
    "    \"\"\"\n",
    "    Extract meeting notes from a transcript using Langfuse and Azure OpenAI.\n",
    "    \n",
    "    Args:\n",
    "        transcript (str): The meeting transcript to analyze.\n",
    "        \n",
    "    Returns:\n",
    "        dict: A dictionary containing the summary and action items.\n",
    "    \"\"\"\n",
    "      \n",
    "    # call parser\n",
    "    output_parser = PydanticOutputParser(pydantic_object=MeetingNotes)\n",
    "    # Call the llm\n",
    "    llm_call = AzureChatOpenAI(api_key= os.getenv(\"AZURE_OPENAI_API_KEY\"),\n",
    "            azure_endpoint= os.getenv(\"AZURE_OPENAI_ENDPOINT\"),\n",
    "            api_version=os.getenv(\"OPENAI_API_VERSION\"),\n",
    "            model=os.getenv(\"MODEL\")\n",
    "            )\n",
    "    # Create a prompt template by fetching prompt from langfuse\n",
    "    fetch_prompt = langfuse.get_prompt(langfuse_prompt_name)\n",
    "    filled_prompt = ChatPromptTemplate.from_messages([\n",
    "        ('system', fetch_prompt.get_langchain_prompt()),\n",
    "        (\"user\", \"transcript:\\n\\n{transcript}\")\n",
    "    ]).partial(format_instructions=output_parser.get_format_instructions())\n",
    "\n",
    "    # Combine the prompt template with the parser and model in a chain\n",
    "    chain = filled_prompt | llm_call | output_parser\n",
    "    # Invoke the chain with the transcript\n",
    "    result = chain.invoke({\"transcript\": transcript},config={\"callbacks\":[langfuse_handler]})\n",
    "    return result"
   ]
  },
  {
   "cell_type": "markdown",
   "id": "1b11a861",
   "metadata": {},
   "source": [
    "## call transcript_summarizer_chain"
   ]
  },
  {
   "cell_type": "code",
   "execution_count": 11,
   "id": "2f6981a3",
   "metadata": {},
   "outputs": [],
   "source": [
    "def extract_meeting_notes(transcript: str,\n",
    "                          retry_count: int = 0,\n",
    "                          max_retries: int = 1) -> dict:\n",
    "    \"\"\"\n",
    "    Extract meeting notes from a transcript by calling function transcript_summarizer_chain.\n",
    "    \n",
    "    Args:\n",
    "        transcript (str): The meeting transcript to analyze.\n",
    "        max_retries (int): Maximum number of retries if the operation fails (default: 1).\n",
    "        \n",
    "    Returns:\n",
    "        dict: A dictionary containing the summary and action items.\n",
    "        \n",
    "    Raises:\n",
    "        Exception: If the operation fails after all retries are exhausted.\n",
    "    \"\"\"\n",
    "    while retry_count <= max_retries:\n",
    "        print(\"trial no\", retry_count)\n",
    "        try:\n",
    "            result = transcript_summarizer_chain(transcript,\n",
    "                                                      \"summarize-meeting\")\n",
    "            \n",
    "            result_json = result.model_dump_json(indent=2)\n",
    "            return json.loads(result_json)\n",
    "        except json.JSONDecodeError as e:\n",
    "            print(\"JSON decoding error:\", e)\n",
    "            retry_count += 1\n",
    "            print(\"trial no\", retry_count)\n",
    "            result = transcript_summarizer_chain(transcript,\n",
    "                                                      \"summarize-meeting-retry\")\n",
    "\n",
    "            result_json = result.model_dump_json(indent=2)\n",
    "            return json.loads(result_json)\n",
    "        except Exception as e:\n",
    "            print(\"Error occured:\", e)\n",
    "            retry_count += 1\n",
    "            print(\"trial no\", retry_count)\n",
    "            result = transcript_summarizer_chain(transcript,\n",
    "                                                      \"summarize-meeting\")\n",
    "            result_json = result.model_dump_json(indent=2)\n",
    "            return json.loads(result_json)\n",
    "        \n",
    "    else:\n",
    "        print(f\"Retry Exhausted: {e}\")\n",
    "        raise Exception(\"Failed to get the the transcript summary after retry.\")"
   ]
  },
  {
   "cell_type": "markdown",
   "id": "22d9668b",
   "metadata": {},
   "source": [
    "## Test sample results"
   ]
  },
  {
   "cell_type": "markdown",
   "id": "53b0f90d",
   "metadata": {},
   "source": [
    "#### Sample 1"
   ]
  },
  {
   "cell_type": "code",
   "execution_count": 12,
   "id": "8ad4aa03",
   "metadata": {},
   "outputs": [
    {
     "name": "stdout",
     "output_type": "stream",
     "text": [
      "trial no 0\n",
      "{'summary': 'The meeting focused on finalizing the Q3 roadmap with a review of an updated feature list and planning user-testing sessions. Action items were assigned including preparing a slide deck from stakeholder feedback and pushing UI mockups to staging.', 'action_items': ['- Review the updated feature list by Friday.', '- Set up user-testing sessions next week.', '- Push the new UI mockups to staging on Wednesday.', '- Compile the stakeholder feedback into a slide deck by Monday.']}\n"
     ]
    }
   ],
   "source": [
    "transcript = \"\"\"\n",
    "Alice: Welcome everyone. Today we need to finalize the Q3 \n",
    "roadmap.\n",
    "Bob: I’ve emailed the updated feature list—please review by \n",
    "Friday.\n",
    "Carol: I’ll set up the user‐testing sessions next week.\n",
    "Dan: Let’s push the new UI mockups to staging on Wednesday.\n",
    "Alice: Great. Also, can someone compile the stakeholder \n",
    "feedback into a slide deck?\n",
    "Bob: I can handle the slide deck by Monday.\n",
    "Alice: Thanks, team. Meeting adjourned.\n",
    "\"\"\"\n",
    "\n",
    "result_json = extract_meeting_notes(transcript = transcript,\n",
    "                                retry_count = 0,\n",
    "                                max_retries = 1)\n",
    "\n",
    "print(result_json)"
   ]
  },
  {
   "cell_type": "markdown",
   "id": "96df9fa0",
   "metadata": {},
   "source": [
    "#### Sample 2"
   ]
  },
  {
   "cell_type": "code",
   "execution_count": 13,
   "id": "3e1fe549",
   "metadata": {},
   "outputs": [
    {
     "name": "stdout",
     "output_type": "stream",
     "text": [
      "trial no 0\n",
      "{'summary': 'The team discussed the progress of the marketing sync, with Emma indicating that the social campaign draft is nearly complete and assets will be delivered by the design team by Tuesday. Additionally, George reminded everyone to submit their budget requests by the end of the day, and the host confirmed they would send out the final budget spreadsheet.', 'action_items': ['- Emma to share the social campaign draft today.', '- Frank to ensure design team delivers assets by Tuesday.', '- Emma to schedule ads for next week after receiving assets.', '- Team to submit budget requests before end of day.', '- Host to send out the final budget spreadsheet.']}\n"
     ]
    }
   ],
   "source": [
    "transcript = \"\"\"\n",
    "Host: Let’s kick off our marketing sync.\n",
    "Emma: The social campaign draft is 80% done; I’ll share it \n",
    "today.\n",
    "Frank: I spoke with the design team—they’ll deliver assets by \n",
    "Tuesday.\n",
    "Emma: Once we have assets, I’ll schedule the ads for next week.\n",
    "George: Reminder: submit your budget requests before end of \n",
    "day.\n",
    "Host: Noted. I’ll send out the final budget spreadsheet.\n",
    "\"\"\"\n",
    "\n",
    "result_json = extract_meeting_notes(transcript = transcript,\n",
    "                                retry_count = 0,\n",
    "                                max_retries = 1)\n",
    "\n",
    "print(result_json)"
   ]
  },
  {
   "cell_type": "markdown",
   "id": "2693ac3c",
   "metadata": {},
   "source": [
    "#### Sample 3"
   ]
  },
  {
   "cell_type": "code",
   "execution_count": 14,
   "id": "7dfed8f1",
   "metadata": {},
   "outputs": [
    {
     "name": "stdout",
     "output_type": "stream",
     "text": [
      "trial no 0\n",
      "{'summary': 'The meeting discussed the successful sales numbers for April, which were up 12% over target. Action items were established for Lia to distribute a report and coordinate recruiting, aiming to onboard two new representatives by May 15th.', 'action_items': ['- Lia will distribute the detailed report to leadership this afternoon.', '- Lia will coordinate recruiting with HR by the end of the week.', '- Aim to onboard the new reps by May 15th.']}\n"
     ]
    }
   ],
   "source": [
    "transcript = \"\"\"\n",
    "John: Sales numbers for April are in—up 12% over target.\n",
    "Lia: I’ll distribute the detailed report to leadership this \n",
    "afternoon.\n",
    "Mike: We need to train two new reps to handle increased volume.\n",
    "Lia: I’ll coordinate recruiting with HR by end of week.\n",
    "John: Excellent. Let’s aim to onboard them by May 15th\n",
    "\"\"\"\n",
    "\n",
    "result_json = extract_meeting_notes(transcript = transcript,\n",
    "                                retry_count = 0,\n",
    "                                max_retries = 1)\n",
    "\n",
    "print(result_json)"
   ]
  },
  {
   "cell_type": "markdown",
   "id": "58c03a68",
   "metadata": {},
   "source": [
    "#### Sample 4"
   ]
  },
  {
   "cell_type": "code",
   "execution_count": 15,
   "id": "4bd2e501",
   "metadata": {},
   "outputs": [
    {
     "name": "stdout",
     "output_type": "stream",
     "text": [
      "trial no 0\n",
      "{'summary': 'The meeting focused on updating the travel-expense policy, with Alex agreeing to draft the new policy document. Legal will review the draft and provide feedback, and once finalized, an announcement will be scheduled for the entire company.', 'action_items': ['- Alex will draft the new policy document and share it with legal.', '- Include guidelines on per diem limits in the draft.', '- Legal will review the document and provide feedback within three days.', '- Schedule a companywide announcement once the policy is finalized.']}\n"
     ]
    }
   ],
   "source": [
    "transcript = \"\"\"\n",
    "HR: We need to update the travel‐expense policy.\n",
    "Alex: I’ll draft the new policy doc and share with legal.\n",
    "HR: Please include guidelines on per diem limits.\n",
    "Legal: I’ll review and provide feedback within three days.\n",
    "HR: Once finalized, schedule a companywide announcement.\n",
    "\"\"\"\n",
    "\n",
    "result_json = extract_meeting_notes(transcript = transcript,\n",
    "                                retry_count = 0,\n",
    "                                max_retries = 1)\n",
    "\n",
    "print(result_json)"
   ]
  },
  {
   "cell_type": "code",
   "execution_count": null,
   "id": "a90bf558",
   "metadata": {},
   "outputs": [],
   "source": []
  }
 ],
 "metadata": {
  "kernelspec": {
   "display_name": ".venv",
   "language": "python",
   "name": "python3"
  },
  "language_info": {
   "codemirror_mode": {
    "name": "ipython",
    "version": 3
   },
   "file_extension": ".py",
   "mimetype": "text/x-python",
   "name": "python",
   "nbconvert_exporter": "python",
   "pygments_lexer": "ipython3",
   "version": "3.13.0"
  }
 },
 "nbformat": 4,
 "nbformat_minor": 5
}
